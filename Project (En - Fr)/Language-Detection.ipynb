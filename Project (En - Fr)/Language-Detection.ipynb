{
 "cells": [
  {
   "cell_type": "code",
   "execution_count": null,
   "metadata": {
    "colab": {},
    "colab_type": "code",
    "id": "iHdLYqQDbMk8"
   },
   "outputs": [],
   "source": [
    "class class_vide:\n",
    "  pass"
   ]
  },
  {
   "cell_type": "code",
   "execution_count": null,
   "metadata": {
    "colab": {},
    "colab_type": "code",
    "id": "aevRWdXmeD5q"
   },
   "outputs": [],
   "source": [
    "class class_vide:\n",
    "  pass\n",
    "c1 = class_vide() "
   ]
  },
  {
   "cell_type": "code",
   "execution_count": 3,
   "metadata": {
    "colab": {
     "base_uri": "https://localhost:8080/",
     "height": 51
    },
    "colab_type": "code",
    "id": "NjLRDosLfvrV",
    "outputId": "b0d29fa0-fc0d-465c-8319-6c5dd6309fff"
   },
   "outputs": [
    {
     "name": "stdout",
     "output_type": "stream",
     "text": [
      "<class '__main__.class_vide'>\n"
     ]
    },
    {
     "data": {
      "text/plain": [
       "True"
      ]
     },
     "execution_count": 3,
     "metadata": {
      "tags": []
     },
     "output_type": "execute_result"
    }
   ],
   "source": [
    "print(type(c1)) # AFFICHE TYPE INSTANCE \n",
    "isinstance(c1, class_vide) #TRUE"
   ]
  },
  {
   "cell_type": "code",
   "execution_count": 4,
   "metadata": {
    "colab": {
     "base_uri": "https://localhost:8080/",
     "height": 34
    },
    "colab_type": "code",
    "id": "f_oY0EYnfwWI",
    "outputId": "5ab5eaf1-bd9b-4576-e6b9-95a4f16a2368"
   },
   "outputs": [
    {
     "name": "stdout",
     "output_type": "stream",
     "text": [
      "[19, 46, 26, 88, 44, 56, 56, 26, 0, 8]\n"
     ]
    }
   ],
   "source": [
    "rnd = 42\n",
    "\n",
    "class exemple_classe:\n",
    "  def method1(self,n):\n",
    "    \"\"\"simule la génération d'un nombre aléatoire compris entre 0 et 1\"\"\"\n",
    "    global rnd\n",
    "    rnd= 397204094 * rnd % 2147483647\n",
    "    return int (rnd % n)\n",
    "\n",
    "\n",
    "nb = exemple_classe()\n",
    "l = [nb.method1(100) for i in range(0,10)]\n",
    "print(l) #affiche [19, 46, 26, 88, 44, 56, 56, 26, 0, 8]"
   ]
  },
  {
   "cell_type": "code",
   "execution_count": 5,
   "metadata": {
    "colab": {
     "base_uri": "https://localhost:8080/",
     "height": 34
    },
    "colab_type": "code",
    "id": "SOcvj-VRfwyp",
    "outputId": "b5d2d2fe-1521-4fee-ec88-f8b673f27152"
   },
   "outputs": [
    {
     "data": {
      "text/plain": [
       "19"
      ]
     },
     "execution_count": 5,
     "metadata": {
      "tags": []
     },
     "output_type": "execute_result"
    }
   ],
   "source": [
    "(397204094 * 42 % 2147483647) % 100"
   ]
  },
  {
   "cell_type": "code",
   "execution_count": 6,
   "metadata": {
    "colab": {
     "base_uri": "https://localhost:8080/",
     "height": 34
    },
    "colab_type": "code",
    "id": "o_5Kk1EHfxLI",
    "outputId": "cc056fcd-d8bd-4970-c37f-8b8fd9a6ec70"
   },
   "outputs": [
    {
     "data": {
      "text/plain": [
       "46"
      ]
     },
     "execution_count": 6,
     "metadata": {
      "tags": []
     },
     "output_type": "execute_result"
    }
   ],
   "source": [
    "(397204094 * (397204094 * 42 % 2147483647) % 2147483647) % 100"
   ]
  },
  {
   "cell_type": "code",
   "execution_count": 29,
   "metadata": {
    "colab": {},
    "colab_type": "code",
    "id": "QHd99qW4nNJJ"
   },
   "outputs": [],
   "source": [
    "import urllib.request\n",
    "import re\n",
    "\n",
    "def list_url(site, root, nbpage = 100): \n",
    "  s = \"\\\"(\" + root + \"[-_~a-zA-Z0-9/.?,]*?)\\\"\"\n",
    "  exp = re.compile(s, re.IGNORECASE)\n",
    "  \n",
    "  res = [ ] #résultat \n",
    "  pile = [site] # page à explorer \n",
    "  \n",
    "  while len(pile) > 0 and len(res) < nbpage:\n",
    "    \n",
    "    # on bascule toutes les pages de pile vers res \n",
    "      for u in pile:\n",
    "          if u not in res: res.append(u)\n",
    "    \n",
    "      u = pile.pop() # on s'interesse à la première page\n",
    "    \n",
    "      try: \n",
    "          f = urllib.request.urlopen(u) # accès à l'url \n",
    "          text = f.read().decode('utf-8')       # on lit son contenu\n",
    "          f.close() # fin de l'accès \n",
    "         \n",
    "          liens = exp.findall(text) #recherche de tous les liens \n",
    "        \n",
    "          for u in liens: \n",
    "              if u in pile or u in res: continue # on passe au suivant si déjà vu         \n",
    "              # on enlève les images et autres fichiers indésirables \n",
    "              if \".gif\" in u or \".png\" in u or \".jpg\" in u : continue\n",
    "              if \".cs\" in u or \".css\" in u or \".js\" in u : continue \n",
    "              \n",
    "              # on ajoute le lien à la liste des liens à explorer \n",
    "              pile.append(u)  \n",
    "      except IOError:\n",
    "          print(\"problème avec url\", u)\n",
    "          continue\n",
    "     \n",
    "    \n",
    "  return res        \n",
    "              "
   ]
  },
  {
   "cell_type": "code",
   "execution_count": 30,
   "metadata": {
    "colab": {},
    "colab_type": "code",
    "id": "vW7tkVKfnNka"
   },
   "outputs": [],
   "source": [
    "url1=\"http://www.lemonde.fr/\" #un journal français \n",
    "url2=\"https://www.usatoday.com/\" #un journal américain \n"
   ]
  },
  {
   "cell_type": "code",
   "execution_count": 33,
   "metadata": {
    "colab": {
     "base_uri": "https://localhost:8080/",
     "height": 34
    },
    "colab_type": "code",
    "id": "5TesTk6MnOEg",
    "outputId": "5fc1b655-31c1-4016-f1ce-61f5b756cf15"
   },
   "outputs": [
    {
     "name": "stdout",
     "output_type": "stream",
     "text": [
      "https://www.usatoday.com/\n",
      "https://www.usatoday.com/money/at-home/\n",
      "https://www.usatoday.com/money/\n",
      "https://www.usatoday.com/sports/\n",
      "https://www.usatoday.com/sports/nfl/\n",
      "https://www.usatoday.com/entertainment/\n",
      "https://www.usatoday.com/opinion/\n",
      "https://www.usatoday.com/tech/\n",
      "https://www.usatoday.com/travel/\n",
      "https://www.usatoday.com/travel/usa-today-eats/\n",
      "https://www.usatoday.com/sports/fantasy/\n",
      "https://www.usatoday.com/sports/soccer/\n",
      "https://www.usatoday.com/pages/interactives/podcasts/\n",
      "https://www.usatoday.com/sports/odds/\n",
      "https://www.usatoday.com/sports/mlb/odds/\n",
      "https://www.usatoday.com/sports/nba/odds/\n",
      "https://www.usatoday.com/sports/ncaab/odds/\n",
      "https://www.usatoday.com/sports/ncaaf/odds/\n",
      "https://www.usatoday.com/super-bowl/\n",
      "https://www.usatoday.com/sports/nfl/odds/\n",
      "https://www.usatoday.com/sports/nhl/odds/\n",
      "https://www.usatoday.com/story/sports/nba/warriors/2019/07/09/shaun-livingston-waived-golden-state-warriors/1690064001/\n",
      "https://www.usatoday.com/story/sports/soccer/2019/07/09/megan-rapinoe-president-trump-cnn-interview-anderson-cooper/1690231001/\n",
      "https://www.usatoday.com/story/sports/mlb/columnist/bob-nightengale/2019/07/10/2019-mlb-all-star-game-reminds-us-what-baseball-once-looked-liked/1690309001/\n",
      "https://www.usatoday.com/picture-gallery/sports/mlb/allstar/2019/07/09/mlb-all-star-game-2019-photos-cleveland/1686873001/\n",
      "https://www.usatoday.com/story/sports/mlb/columnist/bob-nightengale/2019/07/08/cleveland-indians-michael-brantley-francisco-lindor-cc-sabathia/1678152001/\n",
      "https://www.usatoday.com/story/sports/mlb/allstar/2019/07/10/shane-bieber-all-star-game-mvp-cleveland-indians/1690356001/\n",
      "https://www.usatoday.com/story/sports/mlb/allstar/2019/07/09/al-beats-nl-win-streak-extends-seven-games/1690070001/\n",
      "https://www.usatoday.com/story/sports/mlb/allstar/2019/07/09/mike-trout-tommy-la-stella-angels-tyler-skaggs/1688756001/\n",
      "https://www.usatoday.com/story/sports/mlb/allstar/2019/07/10/cc-sabathia-say-goodbye-cleveland/1690427001/\n",
      "https://www.usatoday.com/story/sports/mlb/columnist/bob-nightengale/2019/07/09/mlb-crossroads-rob-manfred-tony-clark-baseball-cba-free-agency/1687285001/\n",
      "https://www.usatoday.com/story/sports/mlb/2019/07/09/mlb-juiced-ball-rob-manfred-home-runs/1685182001/\n",
      "https://www.usatoday.com/picture-gallery/sports/mlb/2014/07/15/mlb-all-star-game-memories/12438067/\n",
      "https://www.usatoday.com/videos/sports/2019/07/09/home-run-derby-2019-record-setting-night/1683287001/\n",
      "https://www.usatoday.com/story/sports/mlb/allstar/2019/07/08/justin-verlander-100-percent-sure-mlb-juicing-baseballs/1677911001/\n",
      "https://www.usatoday.com/story/sports/mlb/columnist/bob-nightengale/2019/07/08/mlb-as-home-runs-fly-at-record-pace-doping-steroid-question-returns/1662455001/\n",
      "https://www.usatoday.com/story/sports/mlb/columnist/bob-nightengale/2019/07/08/mlb-steroids-bud-selig-1990-s-mark-mcgwire-sammy-sosa/1666902001/\n",
      "https://www.usatoday.com/story/sports/mlb/2019/07/09/mlb-five-unlikely-players-take-different-paths-first-all-star-game/1681703001/\n",
      "https://www.usatoday.com/story/sports/mlb/columnist/bob-nightengale/2019/05/02/mlb-home-runs-record-rate-juiced-ball/3650669002/\n",
      "https://www.usatoday.com/story/sports/mlb/2018/05/24/mlb-home-run-study-juiced-ball-aerodynamics-carry-humidor/641654002/\n",
      "https://www.usatoday.com/videos/sports/mlb/2018/05/21/whos-hot-whos-not-mlb-ohtani-has-matched-hype/35190721/\n",
      "https://www.usatoday.com/story/sports/mlb/columnist/bob-nightengale/2018/05/24/trevor-bauer-gerrit-cole-ucla-dont-like-each-other/640362002/\n",
      "https://www.usatoday.com/story/sports/mlb/2018/05/23/aaron-judge-home-run-derby/636104002/\n",
      "https://www.usatoday.com/picture-gallery/sports/mlb/2018/04/02/blast-off-players-with-multiple-homers-in-2018-regular-season-games/33495957/\n",
      "https://www.usatoday.com/story/sports/mlb/2018/05/23/atlanta-braves-ozzie-albies-ronald-acuna-jr/636136002/\n",
      "https://www.usatoday.com/story/sports/mlb/2018/05/23/indians-trevor-bauer-bd-911-mound-message/635687002/\n",
      "https://www.usatoday.com/story/sports/mlb/2018/05/22/juan-soto-nationals-19-year-olds-home-run/633137002/\n",
      "https://www.usatoday.com/story/sports/mlb/nationals/2018/05/21/nationals-juan-soto-home-run-first-mlb-start/631145002/\n",
      "https://www.usatoday.com/picture-gallery/sports/mlb/2018/05/20/youngest-players-in-mlb-in-2018-season/35155159/\n",
      "https://www.usatoday.com/sports/mlb/event/2018/565928/boxscore/\n",
      "https://www.usatoday.com/story/sports/mlb/2018/05/02/trevor-bauer-astros-spin-rate-cheating/572199002/\n",
      "https://www.usatoday.com/picture-gallery/sports/mlb/2018/04/30/mlbs-100-million-pitchers/34411725/\n",
      "https://www.usatoday.com/videos/sports/mlb/2018/04/30/whos-hot-whos-not-mlb-big-win-streaks-al-east/34423051/\n",
      "https://www.usatoday.com/picture-gallery/sports/mlb/2018/04/02/whiff-pitchers-with-10-plus-strikeouts-in-2018-regular-season-games/33495529/\n",
      "https://www.usatoday.com/story/sports/mlb/2018/05/22/aaron-boone-ejected-first-time-new-york-yankees-ny-manager/635673002/\n",
      "https://www.usatoday.com/story/sports/mlb/phillies/2018/05/21/phillies-jorge-alfaro-compared-hall-famer-pudge-rodriguez/631547002/\n",
      "https://www.usatoday.com/sports/mlb/event/2018/565929/boxscore/\n",
      "https://www.usatoday.com/story/sports/mlb/2018/05/21/fortnite-baseball-players-mlb-video-games/627345002/\n",
      "https://www.usatoday.com/story/sports/mlb/2018/05/21/mlb-power-rankings-braves-phillies-make-gains-before-big-series/628093002/\n",
      "https://www.usatoday.com/picture-gallery/sports/mlb/2016/04/08/mlb-photo-of-the-day/82779804/\n",
      "https://www.usatoday.com/story/sports/mlb/columnist/bob-nightengale/2018/05/20/shohei-ohtani-sergio-romo-angels-rays-bullpenning/627486002/\n",
      "https://www.usatoday.com/story/sports/mlb/cardinals/2018/05/20/cardinals-jordan-hicks-ties-mlb-record-throwing-105-mph-twice/627391002/\n",
      "https://www.usatoday.com/story/sports/mlb/astros/2018/05/21/houston-astros-tv-preston-wilson-apologizes-slavery-mlb/627929002/\n",
      "https://www.usatoday.com/story/sports/mlb/astros/2018/05/18/aj-hinch-comments-santa-fe-high-school-texas-school-shooting/625065002/\n",
      "https://www.usatoday.com/picture-gallery/sports/mlb/2018/05/17/youre-wearing-that-ugliest-mlb-uniforms-in-history/35021183/\n",
      "https://www.usatoday.com/videos/news/nation/2018/05/18/dimitrios-pagourtzis-named-santa-fe-shooting-suspect/35082045/\n",
      "https://www.usatoday.com/story/news/nation-now/2018/05/18/active-shooter-santa-fe-high-school-texas-galveston-county/622507002/\n",
      "https://www.usatoday.com/story/news/nation-now/2018/05/18/santa-fe-texas-high-school-shooting-what-we-know/622901002/\n",
      "https://www.usatoday.com/picture-gallery/news/nation/2018/05/18/school-shooting-at-santa-fe-high-school-in-texas/35058105/\n",
      "https://www.usatoday.com/videos/news/nation/2018/05/18/santa-fe-school-shooting-whats-true-and-whats-not/35068323/\n",
      "https://www.usatoday.com/videos/sports/mlb/2018/05/18/mlb-robinson-cano-may-cost-himself-spot-cooperstown/35072005/\n",
      "https://www.usatoday.com/story/sports/fantasy/2018/05/18/fantasy-baseball-waiver-wire-franmil-reyes-austin-meadows/621676002/\n",
      "https://www.usatoday.com/story/sports/fantasy/2018/05/12/fantasy-baseball-waiver-wire-dustin-fowler-tyler-clippard/603196002/\n",
      "https://www.usatoday.com/videos/sports/mlb/2018/05/11/mlb-overreactions-yankees-baseballs-best-team/34818625/\n",
      "https://www.usatoday.com/story/sports/fantasy/2018/05/05/fantasy-baseball-waiver-wire-walker-buehler-leads-trio-pitching-prospects/583487002/\n",
      "https://www.usatoday.com/story/sports/mlb/2018/04/29/pirates-nick-kingham-historically-perfect-mlb-debut-vs-cardinals/563035002/\n",
      "https://www.usatoday.com/videos/sports/nba/2018/04/29/nba-playoffs-warriors-dismantle-pelicans-game-1/34377361/\n",
      "https://www.usatoday.com/picture-gallery/sports/mlb/2015/06/08/baseballs-top-players-under-25/28703789/\n",
      "https://www.usatoday.com/videos/sports/mlb/2018/05/04/mlb-overreactions-time-dodger-panic/34562185/\n",
      "https://www.usatoday.com/story/sports/fantasy/2018/04/27/fantasy-baseball-waiver-wire-david-dahl-jack-flaherty/552366002/\n",
      "https://www.usatoday.com/picture-gallery/sports/mlb/2018/04/30/biggest-surprises-good-and-bad-one-month-into-mlb-season/34409403/\n",
      "https://www.usatoday.com/videos/sports/mlb/2018/04/23/whos-hot-whos-not-mlb-red-sox-get-one-upped/34185713/\n",
      "https://www.usatoday.com/story/sports/fantasy/2018/04/20/fantasy-baseball-waiver-wire-josh-hader-chris-devenski/534469002/\n",
      "https://www.usatoday.com/videos/sports/mlb/2018/04/18/-ohtani-and-trout-angels-looking-make-run/33959285/\n",
      "https://www.usatoday.com/story/sports/fantasy/2018/04/13/fantasy-baseball-waiver-wire-jurickson-profar-franchy-cordero/507929002/\n",
      "https://www.usatoday.com/story/sports/fantasy/2018/04/17/mlb-prospects-service-time-ronald-acuna-nick-senzel/523490002/\n",
      "https://www.usatoday.com/picture-gallery/sports/mlb/2018/04/19/memorable-april-slumps-by-mlb-star-hitters/33985643/\n",
      "https://www.usatoday.com/videos/sports/mlb/2018/04/16/whos-hot-whos-not-mlb-red-sox-mets-make-history/33900135/\n",
      "https://www.usatoday.com/picture-gallery/sports/mlb/2018/02/06/mlbs-100-names-you-need-to-know-for-2018/110173020/\n",
      "https://www.usatoday.com/videos/sports/mlb/2018/04/11/yankees-have-hype-but-red-sox-team-theyre-chasing/33737555/\n",
      "https://www.usatoday.com/story/sports/fantasy/2018/04/06/fantasy-baseball-waiver-wire-brian-anderson-jake-junis/491256002/\n",
      "https://www.usatoday.com/picture-gallery/sports/fantasy/2018/02/26/top-50-fantasy-baseball-stars-to-get-on-your-team/110858984/\n",
      "https://www.usatoday.com/videos/sports/mlb/2018/04/06/biggest-overreactions-young-mlb-season/33610591/\n",
      "https://www.usatoday.com/story/sports/fantasy/2018/03/30/fantasy-baseball-waiver-wire-jose-martinez-keone-kela/472907002/\n",
      "https://www.usatoday.com/story/sports/fantasy/2018/04/03/tuffy-awards-2018-matt-davidson-kyle-gibson/481196002/\n",
      "https://www.usatoday.com/videos/sports/mlb/2018/03/29/-top-stories-opening-day/33406003/\n",
      "https://www.usatoday.com/story/sports/fantasy/2018/04/02/fantasy-sizzlers-fizzlers-hunter-strickland-jose-martinez/479627002/\n",
      "https://www.usatoday.com/videos/sports/mlb/2018/03/29/white-sox-dh-matt-davidson-hits-three-homers/33403901/\n",
      "https://www.usatoday.com/story/sports/fantasy/2018/03/23/fantasy-baseball-waiver-wire-alex-cobb-neil-walker-finally-land/448744002/\n",
      "https://www.usatoday.com/story/sports/fantasy/2018/03/27/bold-fantasy-baseball-predictions-2018-maikel-franco-aaron-hicks/461980002/\n",
      "https://www.usatoday.com/story/sports/fantasy/2018/03/29/fantasy-sleeper-ryan-mcmahon-makes-rockies-roster/464736002/\n",
      "https://www.usatoday.com/picture-gallery/sports/mlb/2018/03/29/scenes-from-mlb-opening-day-2018/33386085/\n"
     ]
    }
   ],
   "source": [
    "res = list_url(url2,url2)\n",
    "for r in res :\n",
    "  print(r)"
   ]
  },
  {
   "cell_type": "code",
   "execution_count": 16,
   "metadata": {
    "colab": {},
    "colab_type": "code",
    "id": "7g03nr51nOnF"
   },
   "outputs": [],
   "source": [
    "import urllib.request\n",
    "\n",
    "def lit_url(nom):\n",
    "  f=urllib.request.urlopen(nom)\n",
    "  res=f.read().decode('utf-8')\n",
    "  f.close()\n",
    "  return res\n",
    "\n",
    "def lit_fichier(nom):\n",
    "  f = open(nom, \"r\")\n",
    "  l = f.readlines()\n",
    "  f.close()\n",
    "  return \"\".join(l)"
   ]
  },
  {
   "cell_type": "code",
   "execution_count": 3,
   "metadata": {
    "colab": {},
    "colab_type": "code",
    "id": "dvUmvtTGnPCN"
   },
   "outputs": [],
   "source": [
    "def compte_lettre(texte):\n",
    "  texte = texte.upper()\n",
    "  res = {}\n",
    "  for c in texte:\n",
    "    if not(\"A\" <= c <= \"Z\"): continue\n",
    "    if c not in res: res[c] = 1\n",
    "    else: res[c] += 1\n",
    "  s=sum(res.values())\n",
    "  for k in res:\n",
    "    res[k] = float(res[k])/s\n",
    "  return res  "
   ]
  },
  {
   "cell_type": "code",
   "execution_count": 17,
   "metadata": {
    "colab": {},
    "colab_type": "code",
    "id": "GMUpAxZwnPel"
   },
   "outputs": [
    {
     "data": {
      "text/plain": [
       "(0.023940173017314523, 0.06151963605820681)"
      ]
     },
     "execution_count": 17,
     "metadata": {},
     "output_type": "execute_result"
    }
   ],
   "source": [
    "def langue_lettre(texte):\n",
    "    if \"http\" in texte: s=lit_url(texte)\n",
    "    else: s=lit_fichier(texte)\n",
    "    c=compte_lettre(s)\n",
    "    return c.get(\"W\", 0.0), c.get(\"H\", 0.0)\n",
    "\n",
    "langue_lettre(\"c1.txt\")\n"
   ]
  },
  {
   "cell_type": "code",
   "execution_count": 19,
   "metadata": {
    "colab": {},
    "colab_type": "code",
    "id": "sfftQ-qinP7a"
   },
   "outputs": [
    {
     "data": {
      "text/plain": [
       "([0.023940173017314523, 6.807537305304433e-06],\n",
       " [0.06151963605820681, 0.010408724539810479])"
      ]
     },
     "execution_count": 19,
     "metadata": {},
     "output_type": "execute_result"
    }
   ],
   "source": [
    "def curve(li):\n",
    "    cx, cy = [], []\n",
    "    for l in li:\n",
    "        x,y=langue_lettre(l)\n",
    "        cx.append(x)\n",
    "        cy.append(y)\n",
    "    return cx, cy  \n",
    "\n",
    "li = [\"c1.txt\",\"c2.txt\"]\n",
    "curve(li)"
   ]
  },
  {
   "cell_type": "code",
   "execution_count": 27,
   "metadata": {
    "colab": {
     "base_uri": "https://localhost:8080/",
     "height": 374
    },
    "colab_type": "code",
    "id": "1P0dQxIAnQZz",
    "outputId": "288ea07a-2df9-4a02-dad0-23ecf815557e"
   },
   "outputs": [
    {
     "data": {
      "image/png": "[encoded data removed]",
      "text/plain": [
       "<Figure size 432x288 with 1 Axes>"
      ]
     },
     "metadata": {
      "needs_background": "light"
     },
     "output_type": "display_data"
    }
   ],
   "source": [
    "#c1 = (\"https://www.gutenberg.org/dirs/etext04/pgjr10.txt\")\n",
    "\n",
    "#c2 = (\"https://archive.org/stream/ledernierjourdun00hugouoft/ledernierjourdun00hugouoft_djvu.txt\")\n",
    "\n",
    "#fr = (\"c1.txt\")\n",
    "#en = (\"c2.txt\") \n",
    "li = [\"c1.txt\",\"c2.txt\"]\n",
    "frcx, frcy = [0.023940173017314523, 6.807537305304433e-06]\n",
    "encx, ency = [0.06151963605820681, 0.010408724539810479]\n",
    "\n",
    "import pylab \n",
    "\n",
    "pylab.plot(frcx, frcy, \"rx\", ms=10, mew=2.5)\n",
    "pylab.plot(encx, ency, \"bv\")\n",
    "pylab.legend((\"francais\",\"anglais\"), loc=2)\n",
    "pylab.title(\"langue\")\n",
    "pylab.xlabel(\"frequence de W\")\n",
    "pylab.ylabel(\"frequence de H\")\n",
    "pylab.savefig(\"graphe.png\")\n",
    "pylab.show()"
   ]
  },
  {
   "cell_type": "code",
   "execution_count": null,
   "metadata": {
    "colab": {},
    "colab_type": "code",
    "id": "52riOxeTWH_Z"
   },
   "outputs": [],
   "source": [
    "c1 = compte_lettre(lit_url(\"https://www.gutenberg.org/dirs/etext04/pgjr10.txt\")) \n",
    "\n",
    "c2 = compte_lettre(lit_url(\"https://archive.org/stream/ledernierjourdun00hugouoft/ledernierjourdun00hugouoft_djvu.txt\"))\n",
    "\n",
    "car = c1.keys()\n",
    "\n",
    "sorted(car)\n",
    "for k in car : \n",
    "  print(k, \":\", \"% 2.2f\" % (c1[k]*100), \"%\", \"%2.2f\" % (c2[k]*100), \"%\") "
   ]
  },
  {
   "cell_type": "code",
   "execution_count": 36,
   "metadata": {
    "colab": {},
    "colab_type": "code",
    "id": "QZKfkdFii1ab"
   },
   "outputs": [],
   "source": [
    "def langue_lettre(texte):\n",
    "    if \"http\" in texte: s=lit_url(texte)\n",
    "    else: s=lit_fichier(texte)\n",
    "    c=compte_lettre(s)\n",
    "    return c.get(\"W\", 0.0), c.get(\"H\", 0.0)"
   ]
  },
  {
   "cell_type": "code",
   "execution_count": 38,
   "metadata": {},
   "outputs": [
    {
     "name": "stdout",
     "output_type": "stream",
     "text": [
      "(0.013864092106158736, 0.03226228684220171)\n",
      "(0.015120310301033193, 0.024353825558644834)\n",
      "(0.015331153797338164, 0.03221161631413329)\n",
      "(0.014197691035625903, 0.03317441937020499)\n",
      "(0.0138435383328386, 0.03241724139260367)\n",
      "(0.013192530563211081, 0.03182637269450922)\n",
      "(0.01312185603551673, 0.031547054295483434)\n",
      "(0.015172123307505331, 0.03398151966935477)\n",
      "(0.01299703567412859, 0.028667075539200653)\n",
      "(0.013482583154875341, 0.031523212636790504)\n",
      "(0.015263176552609708, 0.0323500565229893)\n",
      "(0.015883247918001282, 0.032270980140935296)\n",
      "(0.013216358954214132, 0.02672078914058749)\n",
      "(0.013633355393778954, 0.019501433928965365)\n",
      "(0.013540178267673675, 0.019799959175341907)\n",
      "(0.013529745042492918, 0.01978470254957507)\n",
      "(0.013506481753806475, 0.019818556141263773)\n",
      "(0.013509538141250482, 0.019823040890679097)\n",
      "(0.015432098765432098, 0.033397295321637425)\n",
      "(0.013537414965986394, 0.01979591836734694)\n",
      "(0.013540485370832389, 0.02016330233613064)\n",
      "(0.015144717766118712, 0.029189117715116855)\n",
      "(0.01569730868447873, 0.027059448863054513)\n",
      "(0.015177584989042436, 0.02666642517764536)\n",
      "(0.013964344641635477, 0.02030262787234899)\n",
      "(0.01587700839861843, 0.02711606534849052)\n",
      "(0.018759660322782278, 0.03038735442498359)\n",
      "(0.019330437167014523, 0.03077006750922898)\n",
      "(0.01823099763505465, 0.02970708379576634)\n",
      "(0.01844632577040298, 0.03006027768371148)\n",
      "(0.014886569817708016, 0.026996748700088894)\n",
      "(0.014400472284888992, 0.02114739927048852)\n",
      "(0.013399894902785077, 0.020453534904401955)\n",
      "(0.015387507690905362, 0.02750495636123328)\n",
      "(0.01912404020624591, 0.030098812862167496)\n",
      "(0.01867925986530892, 0.030096287866875963)\n",
      "(0.018158849502164964, 0.029610733585785382)\n",
      "(0.014004564161579122, 0.019797538473541515)\n",
      "(0.01823885305334526, 0.029388742407834643)\n",
      "(0.018040961328568066, 0.02942624178740343)\n",
      "(0.01964765601672141, 0.03026575097043894)\n",
      "(0.014986092959351228, 0.026976307764485105)\n",
      "(0.01875636181472264, 0.030094381351822342)\n",
      "(0.013363546569054674, 0.020045319853582013)\n",
      "(0.013412244733068051, 0.02030015957339366)\n",
      "(0.018652070008849136, 0.030426189201935152)\n",
      "(0.014062552491013538, 0.02582725837336648)\n",
      "(0.014101461736887361, 0.019814655584217064)\n",
      "(0.013731060606060606, 0.02055713383838384)\n",
      "(0.01842992454647616, 0.030007491839246534)\n",
      "(0.018667128636345464, 0.030127530283445052)\n",
      "(0.018853277143174006, 0.03026532538808808)\n",
      "(0.014573510501500214, 0.028410497274258494)\n",
      "(0.018478390917671457, 0.030224798266487645)\n",
      "(0.0185767499074757, 0.030273419298838852)\n",
      "(0.018335071503064418, 0.030164149892138236)\n",
      "(0.013719572727633722, 0.020212047810030578)\n",
      "(0.01803818224064047, 0.029188149446619276)\n",
      "(0.018852975072562745, 0.029870774287177736)\n",
      "(0.018545874446692638, 0.029645831274414444)\n",
      "(0.018584418605272938, 0.029797632765899425)\n",
      "(0.01783538206737271, 0.02989075106741829)\n",
      "(0.014127596554815075, 0.020558088779765383)\n",
      "(0.017260621193205462, 0.028874891234441796)\n",
      "(0.014545794542321718, 0.028216704288939052)\n",
      "(0.014240132356416923, 0.020148900969038052)\n",
      "(0.016312722506597706, 0.025416674046653324)\n",
      "(0.014858462863631025, 0.02008535296190439)\n",
      "(0.018648339454828525, 0.02963549148295013)\n",
      "(0.013968067391517288, 0.019825644039572925)\n",
      "(0.018664054994158335, 0.030435210739083802)\n",
      "(0.018664033865754204, 0.02975696181987855)\n",
      "(0.01876192608227531, 0.03033089215090558)\n",
      "(0.013760747516783793, 0.02057241568842998)\n",
      "(0.017912493858313568, 0.029474029006957544)\n",
      "(0.01840190453277682, 0.03010101744795965)\n",
      "(0.01850405495046327, 0.029821004429418183)\n",
      "(0.01853463602061232, 0.03000037148876777)\n",
      "(0.017082119922049728, 0.02861825950683629)\n",
      "(0.01595736136500175, 0.031330015709985316)\n",
      "(0.015089163237311385, 0.029084015351181394)\n",
      "(0.017316605727800357, 0.02747006293240543)\n",
      "(0.015050218119103176, 0.029111291467992288)\n",
      "(0.01527696365767878, 0.025131887456037515)\n",
      "(0.01562828049548604, 0.031007243334033173)\n",
      "(0.01825337663190785, 0.029874873974300754)\n",
      "(0.018862193202108888, 0.030267731676651134)\n",
      "(0.01870328155648624, 0.030270900705084026)\n",
      "(0.01847624983505855, 0.029905639453433167)\n",
      "(0.018153667282532995, 0.029552950114827413)\n",
      "(0.016503374085890955, 0.028625612935407666)\n",
      "(0.01335017489312087, 0.019879518072289156)\n",
      "(0.01866835501918778, 0.030038892406289975)\n",
      "(0.013823331085637222, 0.02014993455237793)\n",
      "(0.018106901353854104, 0.03004608559573888)\n",
      "(0.018519893899204245, 0.029893899204244033)\n",
      "(0.01843686376914225, 0.03006882358148181)\n",
      "(0.014043852345267832, 0.026905356647238414)\n",
      "(0.014137166198172874, 0.026879831342234716)\n",
      "(0.014290554571884495, 0.026870614466522395)\n",
      "(0.013807382023274077, 0.026136931534232882)\n",
      "(0.013797532401821508, 0.023041295294438175)\n"
     ]
    }
   ],
   "source": [
    "res = list_url(url2,url2)\n",
    "\n",
    "for r in res:\n",
    "    print(langue_lettre(r))"
   ]
  },
  {
   "cell_type": "code",
   "execution_count": 42,
   "metadata": {},
   "outputs": [
    {
     "data": {
      "image/png": "[encoded data removed]",
      "text/plain": [
       "<Figure size 432x288 with 1 Axes>"
      ]
     },
     "metadata": {
      "needs_background": "light"
     },
     "output_type": "display_data"
    }
   ],
   "source": [
    "import pylab\n",
    "\n",
    "res = [(0.013864092106158736, 0.03226228684220171),\n",
    "(0.015120310301033193, 0.024353825558644834),\n",
    "(0.015331153797338164, 0.03221161631413329),\n",
    "(0.014197691035625903, 0.03317441937020499),\n",
    "(0.0138435383328386, 0.03241724139260367),\n",
    "(0.013192530563211081, 0.03182637269450922),\n",
    "(0.01312185603551673, 0.031547054295483434),\n",
    "(0.015172123307505331, 0.03398151966935477),\n",
    "(0.01299703567412859, 0.028667075539200653),\n",
    "(0.013482583154875341, 0.031523212636790504),\n",
    "(0.015263176552609708, 0.0323500565229893),\n",
    "(0.015883247918001282, 0.032270980140935296),\n",
    "(0.013216358954214132, 0.02672078914058749),\n",
    "(0.013633355393778954, 0.019501433928965365),\n",
    "(0.013540178267673675, 0.019799959175341907),\n",
    "(0.013529745042492918, 0.01978470254957507),\n",
    "(0.013506481753806475, 0.019818556141263773),\n",
    "(0.013509538141250482, 0.019823040890679097),\n",
    "(0.015432098765432098, 0.033397295321637425),\n",
    "(0.013537414965986394, 0.01979591836734694),\n",
    "(0.013540485370832389, 0.02016330233613064),\n",
    "(0.015144717766118712, 0.029189117715116855),\n",
    "(0.01569730868447873, 0.027059448863054513),\n",
    "(0.015177584989042436, 0.02666642517764536),\n",
    "(0.013964344641635477, 0.02030262787234899),\n",
    "(0.01587700839861843, 0.02711606534849052),\n",
    "(0.018759660322782278, 0.03038735442498359),\n",
    "(0.019330437167014523, 0.03077006750922898),\n",
    "(0.01823099763505465, 0.02970708379576634),\n",
    "(0.01844632577040298, 0.03006027768371148),\n",
    "(0.014886569817708016, 0.026996748700088894),\n",
    "(0.014400472284888992, 0.02114739927048852),\n",
    "(0.013399894902785077, 0.020453534904401955),\n",
    "(0.015387507690905362, 0.02750495636123328),\n",
    "(0.01912404020624591, 0.030098812862167496),\n",
    "(0.01867925986530892, 0.030096287866875963),\n",
    "(0.018158849502164964, 0.029610733585785382),\n",
    "(0.014004564161579122, 0.019797538473541515),\n",
    "(0.01823885305334526, 0.029388742407834643),\n",
    "(0.018040961328568066, 0.02942624178740343),\n",
    "(0.01964765601672141, 0.03026575097043894),\n",
    "(0.014986092959351228, 0.026976307764485105),\n",
    "(0.01875636181472264, 0.030094381351822342),\n",
    "(0.013363546569054674, 0.020045319853582013),\n",
    "(0.013412244733068051, 0.02030015957339366),\n",
    "(0.018652070008849136, 0.030426189201935152),\n",
    "(0.014062552491013538, 0.02582725837336648),\n",
    "(0.014101461736887361, 0.019814655584217064),\n",
    "(0.013731060606060606, 0.02055713383838384),\n",
    "(0.01842992454647616, 0.030007491839246534),\n",
    "(0.018667128636345464, 0.030127530283445052),\n",
    "(0.018853277143174006, 0.03026532538808808),\n",
    "(0.014573510501500214, 0.028410497274258494),\n",
    "(0.018478390917671457, 0.030224798266487645),\n",
    "(0.0185767499074757, 0.030273419298838852),\n",
    "(0.018335071503064418, 0.030164149892138236),\n",
    "(0.013719572727633722, 0.020212047810030578),\n",
    "(0.01803818224064047, 0.029188149446619276),\n",
    "(0.018852975072562745, 0.029870774287177736),\n",
    "(0.018545874446692638, 0.029645831274414444),\n",
    "(0.018584418605272938, 0.029797632765899425),\n",
    "(0.01783538206737271, 0.02989075106741829),\n",
    "(0.014127596554815075, 0.020558088779765383),\n",
    "(0.017260621193205462, 0.028874891234441796),\n",
    "(0.014545794542321718, 0.028216704288939052),\n",
    "(0.014240132356416923, 0.020148900969038052),\n",
    "(0.016312722506597706, 0.025416674046653324),\n",
    "(0.014858462863631025, 0.02008535296190439),\n",
    "(0.018648339454828525, 0.02963549148295013),\n",
    "(0.013968067391517288, 0.019825644039572925),\n",
    "(0.018664054994158335, 0.030435210739083802),\n",
    "(0.018664033865754204, 0.02975696181987855),\n",
    "(0.01876192608227531, 0.03033089215090558),\n",
    "(0.013760747516783793, 0.02057241568842998),\n",
    "(0.017912493858313568, 0.029474029006957544),\n",
    "(0.01840190453277682, 0.03010101744795965),\n",
    "(0.01850405495046327, 0.029821004429418183),\n",
    "(0.01853463602061232, 0.03000037148876777),\n",
    "(0.017082119922049728, 0.02861825950683629),\n",
    "(0.01595736136500175, 0.031330015709985316),\n",
    "(0.015089163237311385, 0.029084015351181394),\n",
    "(0.017316605727800357, 0.02747006293240543),\n",
    "(0.015050218119103176, 0.029111291467992288),\n",
    "(0.01527696365767878, 0.025131887456037515),\n",
    "(0.01562828049548604, 0.031007243334033173),\n",
    "(0.01825337663190785, 0.029874873974300754),\n",
    "(0.018862193202108888, 0.030267731676651134),\n",
    "(0.01870328155648624, 0.030270900705084026),\n",
    "(0.01847624983505855, 0.029905639453433167),\n",
    "(0.018153667282532995, 0.029552950114827413),\n",
    "(0.016503374085890955, 0.028625612935407666),\n",
    "(0.01335017489312087, 0.019879518072289156),\n",
    "(0.01866835501918778, 0.030038892406289975),\n",
    "(0.013823331085637222, 0.02014993455237793),\n",
    "(0.018106901353854104, 0.03004608559573888),\n",
    "(0.018519893899204245, 0.029893899204244033),\n",
    "(0.01843686376914225, 0.03006882358148181),\n",
    "(0.014043852345267832, 0.026905356647238414),\n",
    "(0.014137166198172874, 0.026879831342234716),\n",
    "(0.014290554571884495, 0.026870614466522395),\n",
    "(0.013807382023274077, 0.026136931534232882),\n",
    "(0.013797532401821508, 0.023041295294438175)]\n",
    "for x,y in res:\n",
    "    pylab.plot(x, y , \"bv\")\n",
    "\n",
    "pylab.title(\"langue\")\n",
    "pylab.xlabel(\"frequence de W\")\n",
    "pylab.ylabel(\"frequence de H\")\n",
    "pylab.savefig(\"graphe.png\")\n",
    "pylab.show()"
   ]
  },
  {
   "cell_type": "code",
   "execution_count": null,
   "metadata": {},
   "outputs": [],
   "source": []
  }
 ],
 "metadata": {
  "colab": {
   "collapsed_sections": [],
   "name": "Untitled0.ipynb",
   "provenance": [],
   "version": "0.3.2"
  },
  "kernelspec": {
   "display_name": "Python 3",
   "language": "python",
   "name": "python3"
  },
  "language_info": {
   "codemirror_mode": {
    "name": "ipython",
    "version": 3
   },
   "file_extension": ".py",
   "mimetype": "text/x-python",
   "name": "python",
   "nbconvert_exporter": "python",
   "pygments_lexer": "ipython3",
   "version": "3.6.4"
  }
 },
 "nbformat": 4,
 "nbformat_minor": 2
}
